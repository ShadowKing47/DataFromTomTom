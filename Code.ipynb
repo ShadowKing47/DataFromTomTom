{
 "cells": [
  {
   "cell_type": "code",
   "execution_count": 13,
   "id": "86a656a5-4f81-440c-a3a6-7551236c265b",
   "metadata": {},
   "outputs": [],
   "source": [
    "import pandas as pd\n",
    "import requests\n",
    "import time"
   ]
  },
  {
   "cell_type": "code",
   "execution_count": 14,
   "id": "42b8d876-f26f-479e-b6e9-d7e721cb5c34",
   "metadata": {},
   "outputs": [],
   "source": [
    "API_KEY = 'YOUR_API_KEY'"
   ]
  },
  {
   "cell_type": "code",
   "execution_count": 15,
   "id": "797f5ace-768d-4d42-b03d-57d9fdcf9c71",
   "metadata": {},
   "outputs": [],
   "source": [
    "route_info = \"\"\"\n",
    "1. ISBT Maharana Pratap Bus (T)\n",
    "2. ISBT Ring Road\n",
    "3. Metro Train Depot\n",
    "4. Shyam Giri Mandir\n",
    "5. Shastri Park\n",
    "6. Shastri Park\n",
    "7. Dharampura\n",
    "8. Seelampur Metro Station\n",
    "9. Seelam Pur Petrol Pump\n",
    "10. Welcome Metro Station\n",
    "11. Kanti Nagar Extension\n",
    "12. Jharkhandi\n",
    "13. East Azad Nagar\n",
    "14. Swarn Cinema\n",
    "15. Krishna Nagar A Block\n",
    "16. Hans Apartment\n",
    "17. Arjun Nagar\n",
    "18. Radheypuri\n",
    "19. Jagat Puri A-Block\n",
    "20. Jagatpuri F-Block\n",
    "21. Hasan Pur Depot (Patparganj Depot)\n",
    "22. Hassanpur Village\n",
    "23. Gazipur Depot\n",
    "24. Anand Vihar Terminal\n",
    "\"\"\""
   ]
  },
  {
   "cell_type": "code",
   "execution_count": 19,
   "id": "4b5a37a1-3981-4247-b558-1c73d225cfa8",
   "metadata": {},
   "outputs": [],
   "source": [
    "stops_list = [line.split('. ', 1)[1].strip() for line in route_info.strip().split('\\n') if line.strip()]\n"
   ]
  },
  {
   "cell_type": "code",
   "execution_count": 22,
   "id": "242e00eb-82db-4615-8eef-a6d4fb132bdb",
   "metadata": {},
   "outputs": [],
   "source": [
    "\n",
    "\n",
    "def get_coordinates(stop,city = 'Delhi'):\n",
    "    url = f'https://api.tomtom.com/search/2/geocode/{stop}, {city}.json'\n",
    "    params = {\n",
    "     'key':API_KEY\n",
    "    }\n",
    "    max_retry = 3\n",
    "    for attempt in range(max_retry):\n",
    "        try:\n",
    "            response = requests.get(url,params = params,timeout = 10)\n",
    "            response.raise_for_status()\n",
    "            data = response.json()\n",
    "            if data['results']:\n",
    "                latitude = data['results'][0]['position']['lat']\n",
    "                longitude = data['results'][0]['position']['lon']\n",
    "                return latitude,longitude\n",
    "            else:\n",
    "                print(f\"No reults found for {stop}\")\n",
    "                return None,None\n",
    "        except requests.exception.RequestException as e:\n",
    "             if attempt < max_retry - 1:\n",
    "                 print(f\"Error occoured: {e}. Retrying in 5 seconds...\")\n",
    "                 time.sleep(5)\n",
    "             else   :\n",
    "                 print(f\"failed to get coordinates for {stop} after {max_retry} attempt\")\n",
    "                 return None,None             \n"
   ]
  },
  {
   "cell_type": "code",
   "execution_count": 24,
   "id": "69f5e0d0-1250-42a5-b3c7-3f38fd8d51b2",
   "metadata": {},
   "outputs": [
    {
     "name": "stdout",
     "output_type": "stream",
     "text": [
      "No reults found forSeelam Pur Petrol Pump\n"
     ]
    }
   ],
   "source": [
    "coordinates = {}\n",
    "\n",
    "for stop in stops_list:\n",
    "    lat,lon = get_coordinates(stop)\n",
    "    coordinates[stop] = {'latitude':lat,'longitude':lon}\n",
    "    time.sleep(1)"
   ]
  },
  {
   "cell_type": "code",
   "execution_count": 37,
   "id": "33bf7a71-3b58-47a4-ab73-c8a601f3990a",
   "metadata": {},
   "outputs": [],
   "source": [
    "def get_traffic(latitude,longitude):\n",
    "    url = f'https://api.tomtom.com/traffic/services/4/flowSegmentData/absolute/10/json'\n",
    "    \n",
    "    params = {\n",
    "        'point': f'{latitude},{longitude}',\n",
    "        'key': API_KEY\n",
    "    }\n",
    "    response = requests.get(url,params = params)\n",
    "    if response.status_code  == 200:\n",
    "        data = response.json()\n",
    "        flow_data = {\n",
    "            'Current Speed(km/h)' : data['flowSegmentData']['currentSpeed'],\n",
    "            'Free Flow Speed(km/h)' : data['flowSegmentData']['freeFlowSpeed'],\n",
    "            'Confidence' : data['flowSegmentData']['confidence'],\n",
    "            'Current Travel Time(s)' : data['flowSegmentData']['currentTravelTime'],\n",
    "            'Free Flow Time(s)' : data['flowSegmentData']['freeFlowTravelTime'],\n",
    "            'Coordinates' : data['flowSegmentData']['coordinates']['coordinate']\n",
    "        }\n",
    "        return flow_data\n",
    "    else:\n",
    "        print(f\"Error: Unable to fetch traffic data. Status code: {response.status_code}\")\n",
    "        return None   \n",
    "          \n",
    "    "
   ]
  },
  {
   "cell_type": "code",
   "execution_count": 38,
   "id": "938ac046-c701-4dfe-b082-ffeb0a366024",
   "metadata": {},
   "outputs": [],
   "source": [
    "def get_routes(start_lat,start_lon,end_lat,end_lon):\n",
    "    url = f'https://api.tomtom.com/routing/1/calculateRoute/{start_lat},{start_lon}:{end_lat},{end_lon}/json'\n",
    "    params = {\n",
    "    'traffic': 'true',\n",
    "    'key': API_KEY\n",
    "     }\n",
    "    response = requests.get(url,params=params)\n",
    "    if response.status_code  == 200:\n",
    "        data = response.json()\n",
    "        summary = data['routes'][0]['summary']\n",
    "        route_data = {\n",
    "            'Distance (km)' :summary['lengthInMeters']/1000,\n",
    "            'Travel Time (Min)' : summary['travelTimeInSeconds']/60,\n",
    "            'Traffic Delay (Min)': summary['trafficDelayInSeconds']/60\n",
    "            }\n",
    "        return route_data\n",
    "    else:\n",
    "        print(f\"Error: Unable to fetch route data. Status code: {response.status_code}\")\n",
    "        return None \n"
   ]
  },
  {
   "cell_type": "code",
   "execution_count": 39,
   "id": "ae297ea3-0335-4f59-ad3f-9ee581f10cdf",
   "metadata": {},
   "outputs": [
    {
     "name": "stdout",
     "output_type": "stream",
     "text": [
      "Error: Unable to fetch traffic data. Status code: 400\n"
     ]
    }
   ],
   "source": [
    "all_flow_data = []\n",
    "all_route_data = []\n",
    "\n",
    "for location,coord in coordinates.items():\n",
    "    flow_data = get_traffic(coord['latitude'],coord['longitude'])\n",
    "    if flow_data:\n",
    "        flow_data['Location'] = location\n",
    "        all_flow_data.append(flow_data)\n",
    "    time.sleep(1)    "
   ]
  },
  {
   "cell_type": "code",
   "execution_count": 45,
   "id": "dd1ac620-4f70-4bde-8c29-55aaba7a583c",
   "metadata": {},
   "outputs": [
    {
     "name": "stdout",
     "output_type": "stream",
     "text": [
      "Error: Unable to fetch route data. Status code: 400\n",
      "Error: Unable to fetch route data. Status code: 400\n",
      "Error: Unable to fetch route data. Status code: 400\n",
      "Error: Unable to fetch route data. Status code: 400\n"
     ]
    }
   ],
   "source": [
    "location = list(coordinates.keys())\n",
    "for i in range(len(location) - 1):\n",
    "    start = coordinates[location[i]]\n",
    "    end = coordinates[location[i+1]]\n",
    "    route_data = get_routes(start['latitude'],start['longitude'],end['latitude'],end['longitude'])\n",
    "    if route_data:\n",
    "        route_data['From'] = location[i]\n",
    "        route_data['To'] = location[i+1]\n",
    "        all_route_data.append(route_data)\n",
    "    time.sleep(1)    "
   ]
  },
  {
   "cell_type": "code",
   "execution_count": 47,
   "id": "d252f487-f671-4c14-8617-8a9539c0c2b9",
   "metadata": {},
   "outputs": [],
   "source": [
    "df_flow = pd.DataFrame(all_flow_data)\n",
    "df_route = pd.DataFrame(all_route_data)"
   ]
  },
  {
   "cell_type": "code",
   "execution_count": 49,
   "id": "56392f01-e251-4ef5-9fdd-64a99ce48606",
   "metadata": {},
   "outputs": [],
   "source": [
    "df_flow.to_csv('Flow.csv',index = False)\n",
    "df_route.to_csv('Route.csv',index = False)"
   ]
  },
  {
   "cell_type": "code",
   "execution_count": 56,
   "id": "93eaaf52-3a2e-43ae-a7e5-004586fb4659",
   "metadata": {},
   "outputs": [],
   "source": [
    "df_combined = pd.merge(df_flow,df_route,left_on = 'Location',right_on = 'From',how = 'outer')\n",
    "df_combined = df_combined.dropna()\n",
    "df_combined.drop(df_combined.tail(1).index,inplace=True) \n",
    "df_combined.to_csv('FinalData.csv',index = False)\n"
   ]
  }
 ],
 "metadata": {
  "kernelspec": {
   "display_name": "Python 3 (ipykernel)",
   "language": "python",
   "name": "python3"
  },
  "language_info": {
   "codemirror_mode": {
    "name": "ipython",
    "version": 3
   },
   "file_extension": ".py",
   "mimetype": "text/x-python",
   "name": "python",
   "nbconvert_exporter": "python",
   "pygments_lexer": "ipython3",
   "version": "3.11.7"
  }
 },
 "nbformat": 4,
 "nbformat_minor": 5
}
